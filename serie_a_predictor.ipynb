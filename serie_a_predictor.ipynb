{
 "cells": [
  {
   "cell_type": "code",
   "execution_count": 93,
   "metadata": {},
   "outputs": [],
   "source": [
    "import pandas as pd"
   ]
  },
  {
   "cell_type": "code",
   "execution_count": 94,
   "metadata": {},
   "outputs": [],
   "source": [
    "matches = pd.read_csv('serie_a_matches.csv')"
   ]
  },
  {
   "cell_type": "code",
   "execution_count": 95,
   "metadata": {},
   "outputs": [
    {
     "data": {
      "text/html": [
       "<div>\n",
       "<style scoped>\n",
       "    .dataframe tbody tr th:only-of-type {\n",
       "        vertical-align: middle;\n",
       "    }\n",
       "\n",
       "    .dataframe tbody tr th {\n",
       "        vertical-align: top;\n",
       "    }\n",
       "\n",
       "    .dataframe thead th {\n",
       "        text-align: right;\n",
       "    }\n",
       "</style>\n",
       "<table border=\"1\" class=\"dataframe\">\n",
       "  <thead>\n",
       "    <tr style=\"text-align: right;\">\n",
       "      <th></th>\n",
       "      <th>date</th>\n",
       "      <th>time</th>\n",
       "      <th>comp</th>\n",
       "      <th>round</th>\n",
       "      <th>day</th>\n",
       "      <th>venue</th>\n",
       "      <th>result</th>\n",
       "      <th>gf</th>\n",
       "      <th>ga</th>\n",
       "      <th>opponent</th>\n",
       "      <th>...</th>\n",
       "      <th>match report</th>\n",
       "      <th>notes</th>\n",
       "      <th>sh</th>\n",
       "      <th>sot</th>\n",
       "      <th>dist</th>\n",
       "      <th>fk</th>\n",
       "      <th>pk</th>\n",
       "      <th>pkatt</th>\n",
       "      <th>team</th>\n",
       "      <th>season</th>\n",
       "    </tr>\n",
       "  </thead>\n",
       "  <tbody>\n",
       "    <tr>\n",
       "      <th>0</th>\n",
       "      <td>2022-08-15</td>\n",
       "      <td>18:30</td>\n",
       "      <td>Serie A</td>\n",
       "      <td>Matchweek 1</td>\n",
       "      <td>Mon</td>\n",
       "      <td>Away</td>\n",
       "      <td>W</td>\n",
       "      <td>5</td>\n",
       "      <td>2</td>\n",
       "      <td>Hellas Verona</td>\n",
       "      <td>...</td>\n",
       "      <td>Match Report</td>\n",
       "      <td>NaN</td>\n",
       "      <td>25.0</td>\n",
       "      <td>8.0</td>\n",
       "      <td>15.2</td>\n",
       "      <td>0.0</td>\n",
       "      <td>0</td>\n",
       "      <td>0</td>\n",
       "      <td>Napoli</td>\n",
       "      <td>2022</td>\n",
       "    </tr>\n",
       "    <tr>\n",
       "      <th>1</th>\n",
       "      <td>2022-08-21</td>\n",
       "      <td>18:30</td>\n",
       "      <td>Serie A</td>\n",
       "      <td>Matchweek 2</td>\n",
       "      <td>Sun</td>\n",
       "      <td>Home</td>\n",
       "      <td>W</td>\n",
       "      <td>4</td>\n",
       "      <td>0</td>\n",
       "      <td>Monza</td>\n",
       "      <td>...</td>\n",
       "      <td>Match Report</td>\n",
       "      <td>NaN</td>\n",
       "      <td>22.0</td>\n",
       "      <td>5.0</td>\n",
       "      <td>15.3</td>\n",
       "      <td>1.0</td>\n",
       "      <td>0</td>\n",
       "      <td>0</td>\n",
       "      <td>Napoli</td>\n",
       "      <td>2022</td>\n",
       "    </tr>\n",
       "    <tr>\n",
       "      <th>2</th>\n",
       "      <td>2022-08-28</td>\n",
       "      <td>20:45</td>\n",
       "      <td>Serie A</td>\n",
       "      <td>Matchweek 3</td>\n",
       "      <td>Sun</td>\n",
       "      <td>Away</td>\n",
       "      <td>D</td>\n",
       "      <td>0</td>\n",
       "      <td>0</td>\n",
       "      <td>Fiorentina</td>\n",
       "      <td>...</td>\n",
       "      <td>Match Report</td>\n",
       "      <td>NaN</td>\n",
       "      <td>13.0</td>\n",
       "      <td>2.0</td>\n",
       "      <td>14.7</td>\n",
       "      <td>1.0</td>\n",
       "      <td>0</td>\n",
       "      <td>0</td>\n",
       "      <td>Napoli</td>\n",
       "      <td>2022</td>\n",
       "    </tr>\n",
       "    <tr>\n",
       "      <th>3</th>\n",
       "      <td>2022-08-31</td>\n",
       "      <td>20:45</td>\n",
       "      <td>Serie A</td>\n",
       "      <td>Matchweek 4</td>\n",
       "      <td>Wed</td>\n",
       "      <td>Home</td>\n",
       "      <td>D</td>\n",
       "      <td>1</td>\n",
       "      <td>1</td>\n",
       "      <td>Lecce</td>\n",
       "      <td>...</td>\n",
       "      <td>Match Report</td>\n",
       "      <td>NaN</td>\n",
       "      <td>19.0</td>\n",
       "      <td>7.0</td>\n",
       "      <td>17.7</td>\n",
       "      <td>0.0</td>\n",
       "      <td>0</td>\n",
       "      <td>0</td>\n",
       "      <td>Napoli</td>\n",
       "      <td>2022</td>\n",
       "    </tr>\n",
       "    <tr>\n",
       "      <th>4</th>\n",
       "      <td>2022-09-03</td>\n",
       "      <td>20:45</td>\n",
       "      <td>Serie A</td>\n",
       "      <td>Matchweek 5</td>\n",
       "      <td>Sat</td>\n",
       "      <td>Away</td>\n",
       "      <td>W</td>\n",
       "      <td>2</td>\n",
       "      <td>1</td>\n",
       "      <td>Lazio</td>\n",
       "      <td>...</td>\n",
       "      <td>Match Report</td>\n",
       "      <td>NaN</td>\n",
       "      <td>19.0</td>\n",
       "      <td>7.0</td>\n",
       "      <td>16.1</td>\n",
       "      <td>0.0</td>\n",
       "      <td>0</td>\n",
       "      <td>0</td>\n",
       "      <td>Napoli</td>\n",
       "      <td>2022</td>\n",
       "    </tr>\n",
       "  </tbody>\n",
       "</table>\n",
       "<p>5 rows × 28 columns</p>\n",
       "</div>"
      ],
      "text/plain": [
       "         date   time     comp        round  day venue result  gf  ga  \\\n",
       "0  2022-08-15  18:30  Serie A  Matchweek 1  Mon  Away      W   5   2   \n",
       "1  2022-08-21  18:30  Serie A  Matchweek 2  Sun  Home      W   4   0   \n",
       "2  2022-08-28  20:45  Serie A  Matchweek 3  Sun  Away      D   0   0   \n",
       "3  2022-08-31  20:45  Serie A  Matchweek 4  Wed  Home      D   1   1   \n",
       "4  2022-09-03  20:45  Serie A  Matchweek 5  Sat  Away      W   2   1   \n",
       "\n",
       "        opponent  ...  match report  notes    sh  sot  dist   fk pk pkatt  \\\n",
       "0  Hellas Verona  ...  Match Report    NaN  25.0  8.0  15.2  0.0  0     0   \n",
       "1          Monza  ...  Match Report    NaN  22.0  5.0  15.3  1.0  0     0   \n",
       "2     Fiorentina  ...  Match Report    NaN  13.0  2.0  14.7  1.0  0     0   \n",
       "3          Lecce  ...  Match Report    NaN  19.0  7.0  17.7  0.0  0     0   \n",
       "4          Lazio  ...  Match Report    NaN  19.0  7.0  16.1  0.0  0     0   \n",
       "\n",
       "     team  season  \n",
       "0  Napoli    2022  \n",
       "1  Napoli    2022  \n",
       "2  Napoli    2022  \n",
       "3  Napoli    2022  \n",
       "4  Napoli    2022  \n",
       "\n",
       "[5 rows x 28 columns]"
      ]
     },
     "execution_count": 95,
     "metadata": {},
     "output_type": "execute_result"
    }
   ],
   "source": [
    "matches.head()"
   ]
  },
  {
   "cell_type": "code",
   "execution_count": 96,
   "metadata": {},
   "outputs": [
    {
     "data": {
      "text/plain": [
       "date              object\n",
       "time              object\n",
       "comp              object\n",
       "round             object\n",
       "day               object\n",
       "venue             object\n",
       "result            object\n",
       "gf                 int64\n",
       "ga                 int64\n",
       "opponent          object\n",
       "xg               float64\n",
       "xga              float64\n",
       "poss             float64\n",
       "attendance       float64\n",
       "captain           object\n",
       "formation         object\n",
       "opp formation     object\n",
       "referee           object\n",
       "match report      object\n",
       "notes            float64\n",
       "sh               float64\n",
       "sot              float64\n",
       "dist             float64\n",
       "fk               float64\n",
       "pk                 int64\n",
       "pkatt              int64\n",
       "team              object\n",
       "season             int64\n",
       "dtype: object"
      ]
     },
     "execution_count": 96,
     "metadata": {},
     "output_type": "execute_result"
    }
   ],
   "source": [
    "matches.dtypes"
   ]
  },
  {
   "cell_type": "code",
   "execution_count": 97,
   "metadata": {},
   "outputs": [],
   "source": [
    "matches[\"date\"] = pd.to_datetime(matches[\"date\"])\n",
    "matches[\"time\"] = matches[\"time\"].str.split(\":\").str[0]"
   ]
  },
  {
   "cell_type": "code",
   "execution_count": 98,
   "metadata": {},
   "outputs": [],
   "source": [
    "matches[\"time\"] = matches[\"time\"].astype(int)"
   ]
  },
  {
   "cell_type": "code",
   "execution_count": 99,
   "metadata": {},
   "outputs": [],
   "source": [
    "matches[\"venue_code\"] = matches[\"venue\"].astype(\"category\").cat.codes"
   ]
  },
  {
   "cell_type": "code",
   "execution_count": 100,
   "metadata": {},
   "outputs": [
    {
     "data": {
      "text/plain": [
       "venue_code\n",
       "0    1065\n",
       "1    1065\n",
       "Name: count, dtype: int64"
      ]
     },
     "execution_count": 100,
     "metadata": {},
     "output_type": "execute_result"
    }
   ],
   "source": [
    "matches[\"venue_code\"].value_counts()"
   ]
  },
  {
   "cell_type": "code",
   "execution_count": 101,
   "metadata": {},
   "outputs": [],
   "source": [
    "matches[\"opp_code\"] = matches[\"opponent\"].astype(\"category\").cat.codes"
   ]
  },
  {
   "cell_type": "code",
   "execution_count": 102,
   "metadata": {},
   "outputs": [],
   "source": [
    "matches[\"day_code\"] = matches[\"date\"].dt.dayofweek"
   ]
  },
  {
   "cell_type": "code",
   "execution_count": 103,
   "metadata": {},
   "outputs": [],
   "source": [
    "matches = matches.drop(columns=[\"referee\", \"captain\", \"formation\", \"opp formation\"])"
   ]
  },
  {
   "cell_type": "code",
   "execution_count": 104,
   "metadata": {},
   "outputs": [],
   "source": [
    "matches = matches.drop(columns=[\"match report\", \"notes\"])"
   ]
  },
  {
   "cell_type": "code",
   "execution_count": 105,
   "metadata": {},
   "outputs": [],
   "source": [
    "matches[\"target\"] = matches[\"result\"].map({\"W\": 1, \"D\": 0, \"L\": -1})"
   ]
  },
  {
   "cell_type": "code",
   "execution_count": 106,
   "metadata": {},
   "outputs": [
    {
     "data": {
      "text/plain": [
       "target\n",
       " 1    906\n",
       "-1    686\n",
       " 0    538\n",
       "Name: count, dtype: int64"
      ]
     },
     "execution_count": 106,
     "metadata": {},
     "output_type": "execute_result"
    }
   ],
   "source": [
    "matches[\"target\"].value_counts()"
   ]
  },
  {
   "cell_type": "code",
   "execution_count": 107,
   "metadata": {},
   "outputs": [],
   "source": [
    "cols = [\"gf\", \"ga\", \"sh\", \"sot\", \"dist\", \"fk\", \"pk\", \"pkatt\"]\n",
    "predictor_columns = [f\"{col}_rolling\" for col in cols]"
   ]
  },
  {
   "cell_type": "code",
   "execution_count": 108,
   "metadata": {},
   "outputs": [
    {
     "data": {
      "text/plain": [
       "['gf_rolling',\n",
       " 'ga_rolling',\n",
       " 'sh_rolling',\n",
       " 'sot_rolling',\n",
       " 'dist_rolling',\n",
       " 'fk_rolling',\n",
       " 'pk_rolling',\n",
       " 'pkatt_rolling']"
      ]
     },
     "execution_count": 108,
     "metadata": {},
     "output_type": "execute_result"
    }
   ],
   "source": [
    "predictor_columns"
   ]
  },
  {
   "cell_type": "code",
   "execution_count": 109,
   "metadata": {},
   "outputs": [],
   "source": [
    "#calculate avg stats of the last 3 games for each team\n",
    "def roll_avg(team_group, cols, predictor_columns):\n",
    "    team_group = team_group.sort_values(\"date\")\n",
    "    roll_stats = team_group[cols].rolling(window=3, closed=\"left\").mean()\n",
    "    team_group[predictor_columns] = roll_stats\n",
    "    team_group = team_group.dropna(subset=predictor_columns)\n",
    "    return team_group"
   ]
  },
  {
   "cell_type": "code",
   "execution_count": 110,
   "metadata": {},
   "outputs": [],
   "source": [
    "matches_roll = matches.groupby(\"team\").apply(lambda x: roll_avg(x, cols, predictor_columns))"
   ]
  },
  {
   "cell_type": "code",
   "execution_count": 111,
   "metadata": {},
   "outputs": [],
   "source": [
    "matches_roll = matches_roll.droplevel(\"team\")"
   ]
  },
  {
   "cell_type": "code",
   "execution_count": 112,
   "metadata": {},
   "outputs": [
    {
     "data": {
      "text/plain": [
       "Index(['date', 'time', 'comp', 'round', 'day', 'venue', 'result', 'gf', 'ga',\n",
       "       'opponent', 'xg', 'xga', 'poss', 'attendance', 'sh', 'sot', 'dist',\n",
       "       'fk', 'pk', 'pkatt', 'team', 'season', 'venue_code', 'opp_code',\n",
       "       'day_code', 'target', 'gf_rolling', 'ga_rolling', 'sh_rolling',\n",
       "       'sot_rolling', 'dist_rolling', 'fk_rolling', 'pk_rolling',\n",
       "       'pkatt_rolling'],\n",
       "      dtype='object')"
      ]
     },
     "execution_count": 112,
     "metadata": {},
     "output_type": "execute_result"
    }
   ],
   "source": [
    "matches_roll.columns"
   ]
  },
  {
   "cell_type": "code",
   "execution_count": 113,
   "metadata": {},
   "outputs": [],
   "source": [
    "matches_roll.index = range(matches_roll.shape[0])"
   ]
  },
  {
   "cell_type": "code",
   "execution_count": 114,
   "metadata": {},
   "outputs": [
    {
     "data": {
      "text/plain": [
       "team\n",
       "Napoli            225\n",
       "Lazio             187\n",
       "Internazionale    149\n",
       "Milan             149\n",
       "Atalanta          149\n",
       "Fiorentina        111\n",
       "Roma              111\n",
       "Juventus          111\n",
       "HellasVerona       74\n",
       "Torino             73\n",
       "Sassuolo           73\n",
       "Salernitana        73\n",
       "Monza              73\n",
       "Lecce              73\n",
       "Bologna            73\n",
       "Empoli             73\n",
       "Udinese            73\n",
       "Spezia             36\n",
       "Cremonese          35\n",
       "Frosinone          35\n",
       "Cagliari           35\n",
       "Sampdoria          35\n",
       "Genoa              35\n",
       "Name: count, dtype: int64"
      ]
     },
     "execution_count": 114,
     "metadata": {},
     "output_type": "execute_result"
    }
   ],
   "source": [
    "matches_roll[\"team\"].value_counts()"
   ]
  },
  {
   "cell_type": "code",
   "execution_count": 115,
   "metadata": {},
   "outputs": [],
   "source": [
    "from sklearn.ensemble import RandomForestClassifier\n",
    "from sklearn.metrics import precision_score"
   ]
  },
  {
   "cell_type": "code",
   "execution_count": 205,
   "metadata": {},
   "outputs": [],
   "source": [
    "def prediction(df, predictors):\n",
    "    train = df[df[\"date\"] < \"2023-01-01\"]\n",
    "    test = df[df[\"date\"] >= \"2023-01-01\"]\n",
    "\n",
    "    model = RandomForestClassifier(n_estimators=200, min_samples_split=5, random_state=1)\n",
    "\n",
    "    model.fit(train[predictors], train[\"target\"])\n",
    "    predictions = model.predict(test[predictors])\n",
    "\n",
    "    all_data = pd.DataFrame(dict(actual=test[\"target\"], predicted=predictions))\n",
    "\n",
    "    precision = precision_score(test[\"target\"], predictions, average=None)\n",
    "    return precision, all_data"
   ]
  },
  {
   "cell_type": "code",
   "execution_count": 206,
   "metadata": {},
   "outputs": [],
   "source": [
    "pred_cols = [\"venue_code\", \"opp_code\", \"time\", \"day_code\"] + predictor_columns"
   ]
  },
  {
   "cell_type": "code",
   "execution_count": 207,
   "metadata": {},
   "outputs": [],
   "source": [
    "precision, data = prediction(matches_roll, pred_cols)"
   ]
  },
  {
   "cell_type": "code",
   "execution_count": 208,
   "metadata": {},
   "outputs": [
    {
     "data": {
      "text/plain": [
       "array([0.46734694, 0.34177215, 0.4908896 ])"
      ]
     },
     "execution_count": 208,
     "metadata": {},
     "output_type": "execute_result"
    }
   ],
   "source": [
    "precision"
   ]
  },
  {
   "cell_type": "code",
   "execution_count": 209,
   "metadata": {},
   "outputs": [],
   "source": [
    "data = data.merge(matches_roll[[\"team\", \"date\", \"opponent\", \"result\"]], left_index=True, right_index=True)"
   ]
  },
  {
   "cell_type": "code",
   "execution_count": 210,
   "metadata": {},
   "outputs": [
    {
     "data": {
      "text/html": [
       "<div>\n",
       "<style scoped>\n",
       "    .dataframe tbody tr th:only-of-type {\n",
       "        vertical-align: middle;\n",
       "    }\n",
       "\n",
       "    .dataframe tbody tr th {\n",
       "        vertical-align: top;\n",
       "    }\n",
       "\n",
       "    .dataframe thead th {\n",
       "        text-align: right;\n",
       "    }\n",
       "</style>\n",
       "<table border=\"1\" class=\"dataframe\">\n",
       "  <thead>\n",
       "    <tr style=\"text-align: right;\">\n",
       "      <th></th>\n",
       "      <th>actual</th>\n",
       "      <th>predicted</th>\n",
       "      <th>team</th>\n",
       "      <th>date</th>\n",
       "      <th>opponent</th>\n",
       "      <th>result</th>\n",
       "    </tr>\n",
       "  </thead>\n",
       "  <tbody>\n",
       "    <tr>\n",
       "      <th>42</th>\n",
       "      <td>0</td>\n",
       "      <td>1</td>\n",
       "      <td>Atalanta</td>\n",
       "      <td>2023-01-04</td>\n",
       "      <td>Spezia</td>\n",
       "      <td>D</td>\n",
       "    </tr>\n",
       "    <tr>\n",
       "      <th>43</th>\n",
       "      <td>0</td>\n",
       "      <td>1</td>\n",
       "      <td>Atalanta</td>\n",
       "      <td>2023-01-04</td>\n",
       "      <td>Spezia</td>\n",
       "      <td>D</td>\n",
       "    </tr>\n",
       "    <tr>\n",
       "      <th>44</th>\n",
       "      <td>0</td>\n",
       "      <td>1</td>\n",
       "      <td>Atalanta</td>\n",
       "      <td>2023-01-04</td>\n",
       "      <td>Spezia</td>\n",
       "      <td>D</td>\n",
       "    </tr>\n",
       "    <tr>\n",
       "      <th>45</th>\n",
       "      <td>1</td>\n",
       "      <td>1</td>\n",
       "      <td>Atalanta</td>\n",
       "      <td>2023-01-09</td>\n",
       "      <td>Bologna</td>\n",
       "      <td>W</td>\n",
       "    </tr>\n",
       "    <tr>\n",
       "      <th>46</th>\n",
       "      <td>1</td>\n",
       "      <td>1</td>\n",
       "      <td>Atalanta</td>\n",
       "      <td>2023-01-09</td>\n",
       "      <td>Bologna</td>\n",
       "      <td>W</td>\n",
       "    </tr>\n",
       "    <tr>\n",
       "      <th>...</th>\n",
       "      <td>...</td>\n",
       "      <td>...</td>\n",
       "      <td>...</td>\n",
       "      <td>...</td>\n",
       "      <td>...</td>\n",
       "      <td>...</td>\n",
       "    </tr>\n",
       "    <tr>\n",
       "      <th>2056</th>\n",
       "      <td>0</td>\n",
       "      <td>-1</td>\n",
       "      <td>Udinese</td>\n",
       "      <td>2024-04-28</td>\n",
       "      <td>Bologna</td>\n",
       "      <td>D</td>\n",
       "    </tr>\n",
       "    <tr>\n",
       "      <th>2057</th>\n",
       "      <td>0</td>\n",
       "      <td>-1</td>\n",
       "      <td>Udinese</td>\n",
       "      <td>2024-05-06</td>\n",
       "      <td>Napoli</td>\n",
       "      <td>D</td>\n",
       "    </tr>\n",
       "    <tr>\n",
       "      <th>2058</th>\n",
       "      <td>1</td>\n",
       "      <td>-1</td>\n",
       "      <td>Udinese</td>\n",
       "      <td>2024-05-13</td>\n",
       "      <td>Lecce</td>\n",
       "      <td>W</td>\n",
       "    </tr>\n",
       "    <tr>\n",
       "      <th>2059</th>\n",
       "      <td>0</td>\n",
       "      <td>0</td>\n",
       "      <td>Udinese</td>\n",
       "      <td>2024-05-19</td>\n",
       "      <td>Empoli</td>\n",
       "      <td>D</td>\n",
       "    </tr>\n",
       "    <tr>\n",
       "      <th>2060</th>\n",
       "      <td>1</td>\n",
       "      <td>1</td>\n",
       "      <td>Udinese</td>\n",
       "      <td>2024-05-26</td>\n",
       "      <td>Frosinone</td>\n",
       "      <td>W</td>\n",
       "    </tr>\n",
       "  </tbody>\n",
       "</table>\n",
       "<p>1581 rows × 6 columns</p>\n",
       "</div>"
      ],
      "text/plain": [
       "      actual  predicted      team       date   opponent result\n",
       "42         0          1  Atalanta 2023-01-04     Spezia      D\n",
       "43         0          1  Atalanta 2023-01-04     Spezia      D\n",
       "44         0          1  Atalanta 2023-01-04     Spezia      D\n",
       "45         1          1  Atalanta 2023-01-09    Bologna      W\n",
       "46         1          1  Atalanta 2023-01-09    Bologna      W\n",
       "...      ...        ...       ...        ...        ...    ...\n",
       "2056       0         -1   Udinese 2024-04-28    Bologna      D\n",
       "2057       0         -1   Udinese 2024-05-06     Napoli      D\n",
       "2058       1         -1   Udinese 2024-05-13      Lecce      W\n",
       "2059       0          0   Udinese 2024-05-19     Empoli      D\n",
       "2060       1          1   Udinese 2024-05-26  Frosinone      W\n",
       "\n",
       "[1581 rows x 6 columns]"
      ]
     },
     "execution_count": 210,
     "metadata": {},
     "output_type": "execute_result"
    }
   ],
   "source": [
    "data"
   ]
  },
  {
   "cell_type": "code",
   "execution_count": 211,
   "metadata": {},
   "outputs": [],
   "source": [
    "class MissingDict(dict):\n",
    "    __missing__ = lambda self, key: key\n",
    "\n",
    "map_values = {\n",
    "    \"Internazionale\": \"Inter\",\n",
    "    \"Hellas Verona\": \"HellasVerona\",\n",
    "}\n",
    "\n",
    "mapping = MissingDict(**map_values)"
   ]
  },
  {
   "cell_type": "code",
   "execution_count": 212,
   "metadata": {},
   "outputs": [],
   "source": [
    "data[\"new_team\"] = data[\"team\"].map(mapping)"
   ]
  },
  {
   "cell_type": "code",
   "execution_count": 213,
   "metadata": {},
   "outputs": [],
   "source": [
    "merged = data.merge(data, left_on=[\"new_team\", \"date\"], right_on=[\"opponent\", \"date\"])"
   ]
  },
  {
   "cell_type": "code",
   "execution_count": 214,
   "metadata": {},
   "outputs": [
    {
     "data": {
      "text/html": [
       "<div>\n",
       "<style scoped>\n",
       "    .dataframe tbody tr th:only-of-type {\n",
       "        vertical-align: middle;\n",
       "    }\n",
       "\n",
       "    .dataframe tbody tr th {\n",
       "        vertical-align: top;\n",
       "    }\n",
       "\n",
       "    .dataframe thead th {\n",
       "        text-align: right;\n",
       "    }\n",
       "</style>\n",
       "<table border=\"1\" class=\"dataframe\">\n",
       "  <thead>\n",
       "    <tr style=\"text-align: right;\">\n",
       "      <th></th>\n",
       "      <th>actual_x</th>\n",
       "      <th>predicted_x</th>\n",
       "      <th>team_x</th>\n",
       "      <th>date</th>\n",
       "      <th>opponent_x</th>\n",
       "      <th>result_x</th>\n",
       "      <th>new_team_x</th>\n",
       "      <th>actual_y</th>\n",
       "      <th>predicted_y</th>\n",
       "      <th>team_y</th>\n",
       "      <th>opponent_y</th>\n",
       "      <th>result_y</th>\n",
       "      <th>new_team_y</th>\n",
       "    </tr>\n",
       "  </thead>\n",
       "  <tbody>\n",
       "    <tr>\n",
       "      <th>0</th>\n",
       "      <td>0</td>\n",
       "      <td>1</td>\n",
       "      <td>Atalanta</td>\n",
       "      <td>2023-01-04</td>\n",
       "      <td>Spezia</td>\n",
       "      <td>D</td>\n",
       "      <td>Atalanta</td>\n",
       "      <td>0</td>\n",
       "      <td>1</td>\n",
       "      <td>Spezia</td>\n",
       "      <td>Atalanta</td>\n",
       "      <td>D</td>\n",
       "      <td>Spezia</td>\n",
       "    </tr>\n",
       "    <tr>\n",
       "      <th>1</th>\n",
       "      <td>0</td>\n",
       "      <td>1</td>\n",
       "      <td>Atalanta</td>\n",
       "      <td>2023-01-04</td>\n",
       "      <td>Spezia</td>\n",
       "      <td>D</td>\n",
       "      <td>Atalanta</td>\n",
       "      <td>0</td>\n",
       "      <td>1</td>\n",
       "      <td>Spezia</td>\n",
       "      <td>Atalanta</td>\n",
       "      <td>D</td>\n",
       "      <td>Spezia</td>\n",
       "    </tr>\n",
       "    <tr>\n",
       "      <th>2</th>\n",
       "      <td>0</td>\n",
       "      <td>1</td>\n",
       "      <td>Atalanta</td>\n",
       "      <td>2023-01-04</td>\n",
       "      <td>Spezia</td>\n",
       "      <td>D</td>\n",
       "      <td>Atalanta</td>\n",
       "      <td>0</td>\n",
       "      <td>1</td>\n",
       "      <td>Spezia</td>\n",
       "      <td>Atalanta</td>\n",
       "      <td>D</td>\n",
       "      <td>Spezia</td>\n",
       "    </tr>\n",
       "    <tr>\n",
       "      <th>3</th>\n",
       "      <td>1</td>\n",
       "      <td>1</td>\n",
       "      <td>Atalanta</td>\n",
       "      <td>2023-01-09</td>\n",
       "      <td>Bologna</td>\n",
       "      <td>W</td>\n",
       "      <td>Atalanta</td>\n",
       "      <td>-1</td>\n",
       "      <td>-1</td>\n",
       "      <td>Bologna</td>\n",
       "      <td>Atalanta</td>\n",
       "      <td>L</td>\n",
       "      <td>Bologna</td>\n",
       "    </tr>\n",
       "    <tr>\n",
       "      <th>4</th>\n",
       "      <td>1</td>\n",
       "      <td>1</td>\n",
       "      <td>Atalanta</td>\n",
       "      <td>2023-01-09</td>\n",
       "      <td>Bologna</td>\n",
       "      <td>W</td>\n",
       "      <td>Atalanta</td>\n",
       "      <td>-1</td>\n",
       "      <td>-1</td>\n",
       "      <td>Bologna</td>\n",
       "      <td>Atalanta</td>\n",
       "      <td>L</td>\n",
       "      <td>Bologna</td>\n",
       "    </tr>\n",
       "    <tr>\n",
       "      <th>...</th>\n",
       "      <td>...</td>\n",
       "      <td>...</td>\n",
       "      <td>...</td>\n",
       "      <td>...</td>\n",
       "      <td>...</td>\n",
       "      <td>...</td>\n",
       "      <td>...</td>\n",
       "      <td>...</td>\n",
       "      <td>...</td>\n",
       "      <td>...</td>\n",
       "      <td>...</td>\n",
       "      <td>...</td>\n",
       "      <td>...</td>\n",
       "    </tr>\n",
       "    <tr>\n",
       "      <th>2117</th>\n",
       "      <td>0</td>\n",
       "      <td>-1</td>\n",
       "      <td>Udinese</td>\n",
       "      <td>2024-04-28</td>\n",
       "      <td>Bologna</td>\n",
       "      <td>D</td>\n",
       "      <td>Udinese</td>\n",
       "      <td>0</td>\n",
       "      <td>1</td>\n",
       "      <td>Bologna</td>\n",
       "      <td>Udinese</td>\n",
       "      <td>D</td>\n",
       "      <td>Bologna</td>\n",
       "    </tr>\n",
       "    <tr>\n",
       "      <th>2118</th>\n",
       "      <td>0</td>\n",
       "      <td>-1</td>\n",
       "      <td>Udinese</td>\n",
       "      <td>2024-05-06</td>\n",
       "      <td>Napoli</td>\n",
       "      <td>D</td>\n",
       "      <td>Udinese</td>\n",
       "      <td>0</td>\n",
       "      <td>-1</td>\n",
       "      <td>Napoli</td>\n",
       "      <td>Udinese</td>\n",
       "      <td>D</td>\n",
       "      <td>Napoli</td>\n",
       "    </tr>\n",
       "    <tr>\n",
       "      <th>2119</th>\n",
       "      <td>1</td>\n",
       "      <td>-1</td>\n",
       "      <td>Udinese</td>\n",
       "      <td>2024-05-13</td>\n",
       "      <td>Lecce</td>\n",
       "      <td>W</td>\n",
       "      <td>Udinese</td>\n",
       "      <td>-1</td>\n",
       "      <td>1</td>\n",
       "      <td>Lecce</td>\n",
       "      <td>Udinese</td>\n",
       "      <td>L</td>\n",
       "      <td>Lecce</td>\n",
       "    </tr>\n",
       "    <tr>\n",
       "      <th>2120</th>\n",
       "      <td>0</td>\n",
       "      <td>0</td>\n",
       "      <td>Udinese</td>\n",
       "      <td>2024-05-19</td>\n",
       "      <td>Empoli</td>\n",
       "      <td>D</td>\n",
       "      <td>Udinese</td>\n",
       "      <td>0</td>\n",
       "      <td>0</td>\n",
       "      <td>Empoli</td>\n",
       "      <td>Udinese</td>\n",
       "      <td>D</td>\n",
       "      <td>Empoli</td>\n",
       "    </tr>\n",
       "    <tr>\n",
       "      <th>2121</th>\n",
       "      <td>1</td>\n",
       "      <td>1</td>\n",
       "      <td>Udinese</td>\n",
       "      <td>2024-05-26</td>\n",
       "      <td>Frosinone</td>\n",
       "      <td>W</td>\n",
       "      <td>Udinese</td>\n",
       "      <td>-1</td>\n",
       "      <td>-1</td>\n",
       "      <td>Frosinone</td>\n",
       "      <td>Udinese</td>\n",
       "      <td>L</td>\n",
       "      <td>Frosinone</td>\n",
       "    </tr>\n",
       "  </tbody>\n",
       "</table>\n",
       "<p>2122 rows × 13 columns</p>\n",
       "</div>"
      ],
      "text/plain": [
       "      actual_x  predicted_x    team_x       date opponent_x result_x  \\\n",
       "0            0            1  Atalanta 2023-01-04     Spezia        D   \n",
       "1            0            1  Atalanta 2023-01-04     Spezia        D   \n",
       "2            0            1  Atalanta 2023-01-04     Spezia        D   \n",
       "3            1            1  Atalanta 2023-01-09    Bologna        W   \n",
       "4            1            1  Atalanta 2023-01-09    Bologna        W   \n",
       "...        ...          ...       ...        ...        ...      ...   \n",
       "2117         0           -1   Udinese 2024-04-28    Bologna        D   \n",
       "2118         0           -1   Udinese 2024-05-06     Napoli        D   \n",
       "2119         1           -1   Udinese 2024-05-13      Lecce        W   \n",
       "2120         0            0   Udinese 2024-05-19     Empoli        D   \n",
       "2121         1            1   Udinese 2024-05-26  Frosinone        W   \n",
       "\n",
       "     new_team_x  actual_y  predicted_y     team_y opponent_y result_y  \\\n",
       "0      Atalanta         0            1     Spezia   Atalanta        D   \n",
       "1      Atalanta         0            1     Spezia   Atalanta        D   \n",
       "2      Atalanta         0            1     Spezia   Atalanta        D   \n",
       "3      Atalanta        -1           -1    Bologna   Atalanta        L   \n",
       "4      Atalanta        -1           -1    Bologna   Atalanta        L   \n",
       "...         ...       ...          ...        ...        ...      ...   \n",
       "2117    Udinese         0            1    Bologna    Udinese        D   \n",
       "2118    Udinese         0           -1     Napoli    Udinese        D   \n",
       "2119    Udinese        -1            1      Lecce    Udinese        L   \n",
       "2120    Udinese         0            0     Empoli    Udinese        D   \n",
       "2121    Udinese        -1           -1  Frosinone    Udinese        L   \n",
       "\n",
       "     new_team_y  \n",
       "0        Spezia  \n",
       "1        Spezia  \n",
       "2        Spezia  \n",
       "3       Bologna  \n",
       "4       Bologna  \n",
       "...         ...  \n",
       "2117    Bologna  \n",
       "2118     Napoli  \n",
       "2119      Lecce  \n",
       "2120     Empoli  \n",
       "2121  Frosinone  \n",
       "\n",
       "[2122 rows x 13 columns]"
      ]
     },
     "execution_count": 214,
     "metadata": {},
     "output_type": "execute_result"
    }
   ],
   "source": [
    "merged"
   ]
  },
  {
   "cell_type": "markdown",
   "metadata": {},
   "source": [
    "Actual wins predicted"
   ]
  },
  {
   "cell_type": "code",
   "execution_count": 215,
   "metadata": {},
   "outputs": [
    {
     "data": {
      "text/plain": [
       "actual_x\n",
       " 1    309\n",
       " 0     98\n",
       "-1     62\n",
       "Name: count, dtype: int64"
      ]
     },
     "execution_count": 215,
     "metadata": {},
     "output_type": "execute_result"
    }
   ],
   "source": [
    "merged[(merged[\"predicted_x\"] == 1) & (merged[\"predicted_y\"] == -1)][\"actual_x\"].value_counts()"
   ]
  },
  {
   "cell_type": "code",
   "execution_count": 219,
   "metadata": {},
   "outputs": [
    {
     "data": {
      "text/plain": [
       "0.6588486140724946"
      ]
     },
     "execution_count": 219,
     "metadata": {},
     "output_type": "execute_result"
    }
   ],
   "source": [
    "309/(309+98+62)"
   ]
  },
  {
   "cell_type": "markdown",
   "metadata": {},
   "source": [
    "Actual draws predicted"
   ]
  },
  {
   "cell_type": "code",
   "execution_count": 216,
   "metadata": {},
   "outputs": [
    {
     "data": {
      "text/plain": [
       "actual_x\n",
       " 0    6\n",
       " 1    5\n",
       "-1    5\n",
       "Name: count, dtype: int64"
      ]
     },
     "execution_count": 216,
     "metadata": {},
     "output_type": "execute_result"
    }
   ],
   "source": [
    "merged[(merged[\"predicted_x\"] == 0) & (merged[\"predicted_y\"] == 0)][\"actual_x\"].value_counts()"
   ]
  },
  {
   "cell_type": "code",
   "execution_count": 218,
   "metadata": {},
   "outputs": [
    {
     "data": {
      "text/plain": [
       "0.375"
      ]
     },
     "execution_count": 218,
     "metadata": {},
     "output_type": "execute_result"
    }
   ],
   "source": [
    "6/16"
   ]
  },
  {
   "cell_type": "markdown",
   "metadata": {},
   "source": [
    "Actual lost predicted"
   ]
  },
  {
   "cell_type": "code",
   "execution_count": 217,
   "metadata": {},
   "outputs": [
    {
     "data": {
      "text/plain": [
       "actual_x\n",
       "-1    295\n",
       " 0     83\n",
       " 1     61\n",
       "Name: count, dtype: int64"
      ]
     },
     "execution_count": 217,
     "metadata": {},
     "output_type": "execute_result"
    }
   ],
   "source": [
    "merged[(merged[\"predicted_x\"] == -1) & (merged[\"predicted_y\"] == 1)][\"actual_x\"].value_counts()"
   ]
  },
  {
   "cell_type": "code",
   "execution_count": 220,
   "metadata": {},
   "outputs": [
    {
     "data": {
      "text/plain": [
       "0.6719817767653758"
      ]
     },
     "execution_count": 220,
     "metadata": {},
     "output_type": "execute_result"
    }
   ],
   "source": [
    "295/(295+83+61)"
   ]
  }
 ],
 "metadata": {
  "kernelspec": {
   "display_name": "base",
   "language": "python",
   "name": "python3"
  },
  "language_info": {
   "codemirror_mode": {
    "name": "ipython",
    "version": 3
   },
   "file_extension": ".py",
   "mimetype": "text/x-python",
   "name": "python",
   "nbconvert_exporter": "python",
   "pygments_lexer": "ipython3",
   "version": "3.11.5"
  }
 },
 "nbformat": 4,
 "nbformat_minor": 2
}
